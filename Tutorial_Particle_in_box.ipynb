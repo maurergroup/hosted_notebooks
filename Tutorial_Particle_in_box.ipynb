{
 "cells": [
  {
   "cell_type": "code",
   "execution_count": 20,
   "metadata": {
    "slideshow": {
     "slide_type": "skip"
    }
   },
   "outputs": [
    {
     "data": {
      "text/plain": [
       "{'width': 1024, 'height': 768}"
      ]
     },
     "execution_count": 20,
     "metadata": {},
     "output_type": "execute_result"
    }
   ],
   "source": [
    "from notebook.services.config import ConfigManager\n",
    "cm = ConfigManager()\n",
    "cm.update('livereveal', {\n",
    "#          'width': 1024,\n",
    "#          'height': 768,\n",
    "          #'width': 3840,\n",
    "#          #'height': 2160,    \n",
    "#          #'width': 1200,\n",
    "#          #'height': 600,    \n",
    "})\n"
   ]
  },
  {
   "cell_type": "markdown",
   "metadata": {
    "hideCode": false,
    "hidePrompt": false,
    "slideshow": {
     "slide_type": "slide"
    }
   },
   "source": [
    "<h2> <center> Tutorial on <br> The Particle in a box  </center> </h2>\n",
    "\n",
    "<br>\n",
    "<h3> <center> Reinhard J. Maurer </center> </h3>"
   ]
  },
  {
   "cell_type": "markdown",
   "metadata": {
    "hideCode": false,
    "hidePrompt": false,
    "slideshow": {
     "slide_type": "slide"
    }
   },
   "source": [
    "<div class=\"col-md-12\">\n",
    "                    <h2> The particle in a box </h2>\n",
    "                    <div class=\"col-md-12\">\n",
    "                    <div class=\"col-md-4\">\n",
    "                        <div class=\"col-md-10\">\n",
    "                            <img src=\"tik1d.png\" alt=\"Motivation\" width=600>\n",
    "                        </div>\n",
    "                    </div>\n",
    "                    <div class=\"col-md-8\">\n",
    "                        <p>  Schrödinger equation (SE): $\\quad\\hat{H}\\psi = E\\psi $</p>\n",
    "                        <p class=\"\">  \n",
    "                        SE: Hamilton ('energy') operator $\\hat{H}$ defines the energy and wave function $\\psi$  </p>\n",
    "                        <p class=\"\"> $$ \\hat{H} = -\\frac{\\hbar^2}{2m}\\frac{d^2}{dx^2}  $$</p>\n",
    "                        <p class=\" margin-top-10\"> boundary conditions: $ \\psi(0) = 0 \\quad\\text{and}\\quad \\psi(L) = 0 $</p>\n",
    "                    </div>\n",
    "                    </div>\n",
    "                    <div class=\"col-md-6\">\n",
    "                        <br>\n",
    "                        <b> wave functions ('eigenfunctions')</b> \n",
    "                        <p> $$ \\psi_n(x) = \\sqrt{\\frac{2}{L}}\\sin{\\frac{n\\pi}{L}}  $$  </p>\n",
    "                    </div>\n",
    "                    <div class=\"col-md-6\">\n",
    "                        <br>\n",
    "                        <b> energies ('eigenvalues') </b>\n",
    "                        <p> $$ E_n = \\frac{\\hbar^2\\pi^2}{2m}\\frac{n^2}{L^2}  $$  </p>\n",
    "                    </div>\n",
    "</div>                    \n",
    "\n"
   ]
  },
  {
   "cell_type": "code",
   "execution_count": 2,
   "metadata": {
    "hideCode": false,
    "hidePrompt": false,
    "slideshow": {
     "slide_type": "skip"
    }
   },
   "outputs": [
    {
     "data": {
      "text/html": [
       "\n",
       "    <div class=\"bk-root\">\n",
       "        <a href=\"https://bokeh.org\" target=\"_blank\" class=\"bk-logo bk-logo-small bk-logo-notebook\"></a>\n",
       "        <span id=\"1002\">Loading BokehJS ...</span>\n",
       "    </div>"
      ]
     },
     "metadata": {},
     "output_type": "display_data"
    },
    {
     "data": {
      "application/javascript": [
       "\n",
       "(function(root) {\n",
       "  function now() {\n",
       "    return new Date();\n",
       "  }\n",
       "\n",
       "  var force = true;\n",
       "\n",
       "  if (typeof root._bokeh_onload_callbacks === \"undefined\" || force === true) {\n",
       "    root._bokeh_onload_callbacks = [];\n",
       "    root._bokeh_is_loading = undefined;\n",
       "  }\n",
       "\n",
       "  var JS_MIME_TYPE = 'application/javascript';\n",
       "  var HTML_MIME_TYPE = 'text/html';\n",
       "  var EXEC_MIME_TYPE = 'application/vnd.bokehjs_exec.v0+json';\n",
       "  var CLASS_NAME = 'output_bokeh rendered_html';\n",
       "\n",
       "  /**\n",
       "   * Render data to the DOM node\n",
       "   */\n",
       "  function render(props, node) {\n",
       "    var script = document.createElement(\"script\");\n",
       "    node.appendChild(script);\n",
       "  }\n",
       "\n",
       "  /**\n",
       "   * Handle when an output is cleared or removed\n",
       "   */\n",
       "  function handleClearOutput(event, handle) {\n",
       "    var cell = handle.cell;\n",
       "\n",
       "    var id = cell.output_area._bokeh_element_id;\n",
       "    var server_id = cell.output_area._bokeh_server_id;\n",
       "    // Clean up Bokeh references\n",
       "    if (id != null && id in Bokeh.index) {\n",
       "      Bokeh.index[id].model.document.clear();\n",
       "      delete Bokeh.index[id];\n",
       "    }\n",
       "\n",
       "    if (server_id !== undefined) {\n",
       "      // Clean up Bokeh references\n",
       "      var cmd = \"from bokeh.io.state import curstate; print(curstate().uuid_to_server['\" + server_id + \"'].get_sessions()[0].document.roots[0]._id)\";\n",
       "      cell.notebook.kernel.execute(cmd, {\n",
       "        iopub: {\n",
       "          output: function(msg) {\n",
       "            var id = msg.content.text.trim();\n",
       "            if (id in Bokeh.index) {\n",
       "              Bokeh.index[id].model.document.clear();\n",
       "              delete Bokeh.index[id];\n",
       "            }\n",
       "          }\n",
       "        }\n",
       "      });\n",
       "      // Destroy server and session\n",
       "      var cmd = \"import bokeh.io.notebook as ion; ion.destroy_server('\" + server_id + \"')\";\n",
       "      cell.notebook.kernel.execute(cmd);\n",
       "    }\n",
       "  }\n",
       "\n",
       "  /**\n",
       "   * Handle when a new output is added\n",
       "   */\n",
       "  function handleAddOutput(event, handle) {\n",
       "    var output_area = handle.output_area;\n",
       "    var output = handle.output;\n",
       "\n",
       "    // limit handleAddOutput to display_data with EXEC_MIME_TYPE content only\n",
       "    if ((output.output_type != \"display_data\") || (!output.data.hasOwnProperty(EXEC_MIME_TYPE))) {\n",
       "      return\n",
       "    }\n",
       "\n",
       "    var toinsert = output_area.element.find(\".\" + CLASS_NAME.split(' ')[0]);\n",
       "\n",
       "    if (output.metadata[EXEC_MIME_TYPE][\"id\"] !== undefined) {\n",
       "      toinsert[toinsert.length - 1].firstChild.textContent = output.data[JS_MIME_TYPE];\n",
       "      // store reference to embed id on output_area\n",
       "      output_area._bokeh_element_id = output.metadata[EXEC_MIME_TYPE][\"id\"];\n",
       "    }\n",
       "    if (output.metadata[EXEC_MIME_TYPE][\"server_id\"] !== undefined) {\n",
       "      var bk_div = document.createElement(\"div\");\n",
       "      bk_div.innerHTML = output.data[HTML_MIME_TYPE];\n",
       "      var script_attrs = bk_div.children[0].attributes;\n",
       "      for (var i = 0; i < script_attrs.length; i++) {\n",
       "        toinsert[toinsert.length - 1].firstChild.setAttribute(script_attrs[i].name, script_attrs[i].value);\n",
       "        toinsert[toinsert.length - 1].firstChild.textContent = bk_div.children[0].textContent\n",
       "      }\n",
       "      // store reference to server id on output_area\n",
       "      output_area._bokeh_server_id = output.metadata[EXEC_MIME_TYPE][\"server_id\"];\n",
       "    }\n",
       "  }\n",
       "\n",
       "  function register_renderer(events, OutputArea) {\n",
       "\n",
       "    function append_mime(data, metadata, element) {\n",
       "      // create a DOM node to render to\n",
       "      var toinsert = this.create_output_subarea(\n",
       "        metadata,\n",
       "        CLASS_NAME,\n",
       "        EXEC_MIME_TYPE\n",
       "      );\n",
       "      this.keyboard_manager.register_events(toinsert);\n",
       "      // Render to node\n",
       "      var props = {data: data, metadata: metadata[EXEC_MIME_TYPE]};\n",
       "      render(props, toinsert[toinsert.length - 1]);\n",
       "      element.append(toinsert);\n",
       "      return toinsert\n",
       "    }\n",
       "\n",
       "    /* Handle when an output is cleared or removed */\n",
       "    events.on('clear_output.CodeCell', handleClearOutput);\n",
       "    events.on('delete.Cell', handleClearOutput);\n",
       "\n",
       "    /* Handle when a new output is added */\n",
       "    events.on('output_added.OutputArea', handleAddOutput);\n",
       "\n",
       "    /**\n",
       "     * Register the mime type and append_mime function with output_area\n",
       "     */\n",
       "    OutputArea.prototype.register_mime_type(EXEC_MIME_TYPE, append_mime, {\n",
       "      /* Is output safe? */\n",
       "      safe: true,\n",
       "      /* Index of renderer in `output_area.display_order` */\n",
       "      index: 0\n",
       "    });\n",
       "  }\n",
       "\n",
       "  // register the mime type if in Jupyter Notebook environment and previously unregistered\n",
       "  if (root.Jupyter !== undefined) {\n",
       "    var events = require('base/js/events');\n",
       "    var OutputArea = require('notebook/js/outputarea').OutputArea;\n",
       "\n",
       "    if (OutputArea.prototype.mime_types().indexOf(EXEC_MIME_TYPE) == -1) {\n",
       "      register_renderer(events, OutputArea);\n",
       "    }\n",
       "  }\n",
       "\n",
       "  \n",
       "  if (typeof (root._bokeh_timeout) === \"undefined\" || force === true) {\n",
       "    root._bokeh_timeout = Date.now() + 5000;\n",
       "    root._bokeh_failed_load = false;\n",
       "  }\n",
       "\n",
       "  var NB_LOAD_WARNING = {'data': {'text/html':\n",
       "     \"<div style='background-color: #fdd'>\\n\"+\n",
       "     \"<p>\\n\"+\n",
       "     \"BokehJS does not appear to have successfully loaded. If loading BokehJS from CDN, this \\n\"+\n",
       "     \"may be due to a slow or bad network connection. Possible fixes:\\n\"+\n",
       "     \"</p>\\n\"+\n",
       "     \"<ul>\\n\"+\n",
       "     \"<li>re-rerun `output_notebook()` to attempt to load from CDN again, or</li>\\n\"+\n",
       "     \"<li>use INLINE resources instead, as so:</li>\\n\"+\n",
       "     \"</ul>\\n\"+\n",
       "     \"<code>\\n\"+\n",
       "     \"from bokeh.resources import INLINE\\n\"+\n",
       "     \"output_notebook(resources=INLINE)\\n\"+\n",
       "     \"</code>\\n\"+\n",
       "     \"</div>\"}};\n",
       "\n",
       "  function display_loaded() {\n",
       "    var el = document.getElementById(\"1002\");\n",
       "    if (el != null) {\n",
       "      el.textContent = \"BokehJS is loading...\";\n",
       "    }\n",
       "    if (root.Bokeh !== undefined) {\n",
       "      if (el != null) {\n",
       "        el.textContent = \"BokehJS \" + root.Bokeh.version + \" successfully loaded.\";\n",
       "      }\n",
       "    } else if (Date.now() < root._bokeh_timeout) {\n",
       "      setTimeout(display_loaded, 100)\n",
       "    }\n",
       "  }\n",
       "\n",
       "\n",
       "  function run_callbacks() {\n",
       "    try {\n",
       "      root._bokeh_onload_callbacks.forEach(function(callback) {\n",
       "        if (callback != null)\n",
       "          callback();\n",
       "      });\n",
       "    } finally {\n",
       "      delete root._bokeh_onload_callbacks\n",
       "    }\n",
       "    console.debug(\"Bokeh: all callbacks have finished\");\n",
       "  }\n",
       "\n",
       "  function load_libs(css_urls, js_urls, callback) {\n",
       "    if (css_urls == null) css_urls = [];\n",
       "    if (js_urls == null) js_urls = [];\n",
       "\n",
       "    root._bokeh_onload_callbacks.push(callback);\n",
       "    if (root._bokeh_is_loading > 0) {\n",
       "      console.debug(\"Bokeh: BokehJS is being loaded, scheduling callback at\", now());\n",
       "      return null;\n",
       "    }\n",
       "    if (js_urls == null || js_urls.length === 0) {\n",
       "      run_callbacks();\n",
       "      return null;\n",
       "    }\n",
       "    console.debug(\"Bokeh: BokehJS not loaded, scheduling load and callback at\", now());\n",
       "    root._bokeh_is_loading = css_urls.length + js_urls.length;\n",
       "\n",
       "    function on_load() {\n",
       "      root._bokeh_is_loading--;\n",
       "      if (root._bokeh_is_loading === 0) {\n",
       "        console.debug(\"Bokeh: all BokehJS libraries/stylesheets loaded\");\n",
       "        run_callbacks()\n",
       "      }\n",
       "    }\n",
       "\n",
       "    function on_error() {\n",
       "      console.error(\"failed to load \" + url);\n",
       "    }\n",
       "\n",
       "    for (var i = 0; i < css_urls.length; i++) {\n",
       "      var url = css_urls[i];\n",
       "      const element = document.createElement(\"link\");\n",
       "      element.onload = on_load;\n",
       "      element.onerror = on_error;\n",
       "      element.rel = \"stylesheet\";\n",
       "      element.type = \"text/css\";\n",
       "      element.href = url;\n",
       "      console.debug(\"Bokeh: injecting link tag for BokehJS stylesheet: \", url);\n",
       "      document.body.appendChild(element);\n",
       "    }\n",
       "\n",
       "    const hashes = {\"https://cdn.bokeh.org/bokeh/release/bokeh-2.2.2.min.js\": \"JayppSWSRBsibIZqI8S4vAb1oFgLL0uhNvSn8cmArlOvYOwfFjYeyY5UWwJ+K0SU\", \"https://cdn.bokeh.org/bokeh/release/bokeh-widgets-2.2.2.min.js\": \"G0/Tv/Yy/zEPNsnW0Qif/FOsGesd+KIrKg/QLmvQmReuUW9qmSP7mAmr0VpiUNr3\", \"https://cdn.bokeh.org/bokeh/release/bokeh-tables-2.2.2.min.js\": \"VLYHEbLQDk5G1+/4ALU0myoJPMEUsngWry2fzYorFOUmarjGRPLLURaeK/on6JqX\"};\n",
       "\n",
       "    for (var i = 0; i < js_urls.length; i++) {\n",
       "      var url = js_urls[i];\n",
       "      var element = document.createElement('script');\n",
       "      element.onload = on_load;\n",
       "      element.onerror = on_error;\n",
       "      element.async = false;\n",
       "      element.src = url;\n",
       "      if (url in hashes) {\n",
       "        element.crossOrigin = \"anonymous\";\n",
       "        element.integrity = \"sha384-\" + hashes[url];\n",
       "      }\n",
       "      console.debug(\"Bokeh: injecting script tag for BokehJS library: \", url);\n",
       "      document.head.appendChild(element);\n",
       "    }\n",
       "  };\n",
       "\n",
       "  function inject_raw_css(css) {\n",
       "    const element = document.createElement(\"style\");\n",
       "    element.appendChild(document.createTextNode(css));\n",
       "    document.body.appendChild(element);\n",
       "  }\n",
       "\n",
       "  \n",
       "  var js_urls = [\"https://cdn.bokeh.org/bokeh/release/bokeh-2.2.2.min.js\", \"https://cdn.bokeh.org/bokeh/release/bokeh-widgets-2.2.2.min.js\", \"https://cdn.bokeh.org/bokeh/release/bokeh-tables-2.2.2.min.js\"];\n",
       "  var css_urls = [];\n",
       "  \n",
       "\n",
       "  var inline_js = [\n",
       "    function(Bokeh) {\n",
       "      Bokeh.set_log_level(\"info\");\n",
       "    },\n",
       "    function(Bokeh) {\n",
       "    \n",
       "    \n",
       "    }\n",
       "  ];\n",
       "\n",
       "  function run_inline_js() {\n",
       "    \n",
       "    if (root.Bokeh !== undefined || force === true) {\n",
       "      \n",
       "    for (var i = 0; i < inline_js.length; i++) {\n",
       "      inline_js[i].call(root, root.Bokeh);\n",
       "    }\n",
       "    if (force === true) {\n",
       "        display_loaded();\n",
       "      }} else if (Date.now() < root._bokeh_timeout) {\n",
       "      setTimeout(run_inline_js, 100);\n",
       "    } else if (!root._bokeh_failed_load) {\n",
       "      console.log(\"Bokeh: BokehJS failed to load within specified timeout.\");\n",
       "      root._bokeh_failed_load = true;\n",
       "    } else if (force !== true) {\n",
       "      var cell = $(document.getElementById(\"1002\")).parents('.cell').data().cell;\n",
       "      cell.output_area.append_execute_result(NB_LOAD_WARNING)\n",
       "    }\n",
       "\n",
       "  }\n",
       "\n",
       "  if (root._bokeh_is_loading === 0) {\n",
       "    console.debug(\"Bokeh: BokehJS loaded, going straight to plotting\");\n",
       "    run_inline_js();\n",
       "  } else {\n",
       "    load_libs(css_urls, js_urls, function() {\n",
       "      console.debug(\"Bokeh: BokehJS plotting callback run at\", now());\n",
       "      run_inline_js();\n",
       "    });\n",
       "  }\n",
       "}(window));"
      ],
      "application/vnd.bokehjs_load.v0+json": "\n(function(root) {\n  function now() {\n    return new Date();\n  }\n\n  var force = true;\n\n  if (typeof root._bokeh_onload_callbacks === \"undefined\" || force === true) {\n    root._bokeh_onload_callbacks = [];\n    root._bokeh_is_loading = undefined;\n  }\n\n  \n\n  \n  if (typeof (root._bokeh_timeout) === \"undefined\" || force === true) {\n    root._bokeh_timeout = Date.now() + 5000;\n    root._bokeh_failed_load = false;\n  }\n\n  var NB_LOAD_WARNING = {'data': {'text/html':\n     \"<div style='background-color: #fdd'>\\n\"+\n     \"<p>\\n\"+\n     \"BokehJS does not appear to have successfully loaded. If loading BokehJS from CDN, this \\n\"+\n     \"may be due to a slow or bad network connection. Possible fixes:\\n\"+\n     \"</p>\\n\"+\n     \"<ul>\\n\"+\n     \"<li>re-rerun `output_notebook()` to attempt to load from CDN again, or</li>\\n\"+\n     \"<li>use INLINE resources instead, as so:</li>\\n\"+\n     \"</ul>\\n\"+\n     \"<code>\\n\"+\n     \"from bokeh.resources import INLINE\\n\"+\n     \"output_notebook(resources=INLINE)\\n\"+\n     \"</code>\\n\"+\n     \"</div>\"}};\n\n  function display_loaded() {\n    var el = document.getElementById(\"1002\");\n    if (el != null) {\n      el.textContent = \"BokehJS is loading...\";\n    }\n    if (root.Bokeh !== undefined) {\n      if (el != null) {\n        el.textContent = \"BokehJS \" + root.Bokeh.version + \" successfully loaded.\";\n      }\n    } else if (Date.now() < root._bokeh_timeout) {\n      setTimeout(display_loaded, 100)\n    }\n  }\n\n\n  function run_callbacks() {\n    try {\n      root._bokeh_onload_callbacks.forEach(function(callback) {\n        if (callback != null)\n          callback();\n      });\n    } finally {\n      delete root._bokeh_onload_callbacks\n    }\n    console.debug(\"Bokeh: all callbacks have finished\");\n  }\n\n  function load_libs(css_urls, js_urls, callback) {\n    if (css_urls == null) css_urls = [];\n    if (js_urls == null) js_urls = [];\n\n    root._bokeh_onload_callbacks.push(callback);\n    if (root._bokeh_is_loading > 0) {\n      console.debug(\"Bokeh: BokehJS is being loaded, scheduling callback at\", now());\n      return null;\n    }\n    if (js_urls == null || js_urls.length === 0) {\n      run_callbacks();\n      return null;\n    }\n    console.debug(\"Bokeh: BokehJS not loaded, scheduling load and callback at\", now());\n    root._bokeh_is_loading = css_urls.length + js_urls.length;\n\n    function on_load() {\n      root._bokeh_is_loading--;\n      if (root._bokeh_is_loading === 0) {\n        console.debug(\"Bokeh: all BokehJS libraries/stylesheets loaded\");\n        run_callbacks()\n      }\n    }\n\n    function on_error() {\n      console.error(\"failed to load \" + url);\n    }\n\n    for (var i = 0; i < css_urls.length; i++) {\n      var url = css_urls[i];\n      const element = document.createElement(\"link\");\n      element.onload = on_load;\n      element.onerror = on_error;\n      element.rel = \"stylesheet\";\n      element.type = \"text/css\";\n      element.href = url;\n      console.debug(\"Bokeh: injecting link tag for BokehJS stylesheet: \", url);\n      document.body.appendChild(element);\n    }\n\n    const hashes = {\"https://cdn.bokeh.org/bokeh/release/bokeh-2.2.2.min.js\": \"JayppSWSRBsibIZqI8S4vAb1oFgLL0uhNvSn8cmArlOvYOwfFjYeyY5UWwJ+K0SU\", \"https://cdn.bokeh.org/bokeh/release/bokeh-widgets-2.2.2.min.js\": \"G0/Tv/Yy/zEPNsnW0Qif/FOsGesd+KIrKg/QLmvQmReuUW9qmSP7mAmr0VpiUNr3\", \"https://cdn.bokeh.org/bokeh/release/bokeh-tables-2.2.2.min.js\": \"VLYHEbLQDk5G1+/4ALU0myoJPMEUsngWry2fzYorFOUmarjGRPLLURaeK/on6JqX\"};\n\n    for (var i = 0; i < js_urls.length; i++) {\n      var url = js_urls[i];\n      var element = document.createElement('script');\n      element.onload = on_load;\n      element.onerror = on_error;\n      element.async = false;\n      element.src = url;\n      if (url in hashes) {\n        element.crossOrigin = \"anonymous\";\n        element.integrity = \"sha384-\" + hashes[url];\n      }\n      console.debug(\"Bokeh: injecting script tag for BokehJS library: \", url);\n      document.head.appendChild(element);\n    }\n  };\n\n  function inject_raw_css(css) {\n    const element = document.createElement(\"style\");\n    element.appendChild(document.createTextNode(css));\n    document.body.appendChild(element);\n  }\n\n  \n  var js_urls = [\"https://cdn.bokeh.org/bokeh/release/bokeh-2.2.2.min.js\", \"https://cdn.bokeh.org/bokeh/release/bokeh-widgets-2.2.2.min.js\", \"https://cdn.bokeh.org/bokeh/release/bokeh-tables-2.2.2.min.js\"];\n  var css_urls = [];\n  \n\n  var inline_js = [\n    function(Bokeh) {\n      Bokeh.set_log_level(\"info\");\n    },\n    function(Bokeh) {\n    \n    \n    }\n  ];\n\n  function run_inline_js() {\n    \n    if (root.Bokeh !== undefined || force === true) {\n      \n    for (var i = 0; i < inline_js.length; i++) {\n      inline_js[i].call(root, root.Bokeh);\n    }\n    if (force === true) {\n        display_loaded();\n      }} else if (Date.now() < root._bokeh_timeout) {\n      setTimeout(run_inline_js, 100);\n    } else if (!root._bokeh_failed_load) {\n      console.log(\"Bokeh: BokehJS failed to load within specified timeout.\");\n      root._bokeh_failed_load = true;\n    } else if (force !== true) {\n      var cell = $(document.getElementById(\"1002\")).parents('.cell').data().cell;\n      cell.output_area.append_execute_result(NB_LOAD_WARNING)\n    }\n\n  }\n\n  if (root._bokeh_is_loading === 0) {\n    console.debug(\"Bokeh: BokehJS loaded, going straight to plotting\");\n    run_inline_js();\n  } else {\n    load_libs(css_urls, js_urls, function() {\n      console.debug(\"Bokeh: BokehJS plotting callback run at\", now());\n      run_inline_js();\n    });\n  }\n}(window));"
     },
     "metadata": {},
     "output_type": "display_data"
    }
   ],
   "source": [
    "\n",
    "\n",
    "import numpy as np\n",
    "import warnings\n",
    "#warnings.filterwarnings('ignore')\n",
    "import qmp\n",
    "\n",
    "from bokeh.layouts import gridplot, widgetbox, column\n",
    "from bokeh.plotting import figure, output_file, show\n",
    "from bokeh.models import LinearAxis, Range1d\n",
    "from bokeh.models import HoverTool\n",
    "from bokeh.models import ColumnDataSource\n",
    "from bokeh.models.widgets import Slider\n",
    "from bokeh.models import TapTool, CustomJS\n",
    "from bokeh.models import Span\n",
    "from bokeh.models import Label\n",
    "from bokeh.models.glyphs import HBar\n",
    "\n",
    "from bokeh.io import output_notebook, push_notebook, show\n",
    "from bokeh.palettes import viridis, magma\n",
    "\n",
    "from ipywidgets import interact\n",
    "\n",
    "output_notebook()\n",
    "\n",
    "N=50\n",
    "x = np.random.random(size=N) * 100\n",
    "y = np.random.random(size=N) * 100\n",
    "lw = 2.0\n",
    "colors = magma(N)\n",
    "colors = [\n",
    "    \"#%02x%02x%02x\" % (int(r), int(g), 150) for r, g in zip(50+2*x, 30+2*y)\n",
    "]"
   ]
  },
  {
   "cell_type": "code",
   "execution_count": 11,
   "metadata": {},
   "outputs": [
    {
     "name": "stdout",
     "output_type": "stream",
     "text": [
      "Model Summary\n",
      "System: Grid\n",
      "Integrator: NoneType\n",
      "Mode: wave\n",
      "\n",
      "Solving...\n",
      "SOLVED\n",
      "\n"
     ]
    },
    {
     "data": {
      "image/png": "[encoded data removed]",
      "text/plain": [
       "<Figure size 432x288 with 4 Axes>"
      ]
     },
     "metadata": {
      "needs_background": "light"
     },
     "output_type": "display_data"
    }
   ],
   "source": [
    "cell = np.array([[-4.0,20.0]])\n",
    "m = 1.0\n",
    "L=5\n",
    "N=500\n",
    "\n",
    "system = qmp.systems.Grid(m, cell, N)\n",
    "\n",
    "# POTENTIAL\n",
    "f = qmp.potential.presets.Box(1,\n",
    "                              position=np.array([L/2.0]), \n",
    "                              width=np.array([L]),\n",
    "                              height=np.array([100000.0]))\n",
    "pot = qmp.potential.Potential(cell, f=f())\n",
    "\n",
    "states = 30\n",
    "\n",
    "wave_model = qmp.Model(\n",
    "               potential=pot,\n",
    "               system=system,\n",
    "               mode='wave',\n",
    "               states=states,\n",
    "            )\n",
    "print(wave_model)\n",
    "\n",
    "wave_model.solve()\n",
    "\n",
    "psi = wave_model.system.basis\n",
    "x = wave_model.system.mesh[0]\n",
    "E = wave_model.system.E\n",
    "from qmp.tools.visualizations import wave_slideshow1D\n",
    "wave_slideshow1D(x,psi,wave_model.potential(x))\n"
   ]
  },
  {
   "cell_type": "code",
   "execution_count": 5,
   "metadata": {
    "hideCode": false,
    "hidePrompt": false,
    "slideshow": {
     "slide_type": "skip"
    }
   },
   "outputs": [],
   "source": [
    "cell = [[-4.0,11.0]]\n",
    "\n",
    "def do_calcs1(m=1.0,L=5):\n",
    "    f = qmp.potential.presets.Box(1,\n",
    "                              position=np.array([L/2.0]), \n",
    "                              width=np.array([L]),\n",
    "                              height=np.array([1000000.0]))\n",
    "    x = np.linspace(-4,11,2000)\n",
    "    E = np.zeros(50)\n",
    "    psi = np.zeros([len(x),50])\n",
    "    for i in range(50):\n",
    "        E[i] = ((i+1)*(i+1)*np.pi*np.pi)/(2*m*L*L)\n",
    "        psi[:,i] = np.sin(x*(i+1)*np.pi/L)*np.sqrt(2/L)\n",
    "    for i, xx in enumerate(x):\n",
    "        if xx<0. or xx>L:\n",
    "            psi[i,:] = 0.0\n",
    "    dens = psi*psi\n",
    "    \n",
    "    return x, E, pot, psi, dens"
   ]
  },
  {
   "cell_type": "code",
   "execution_count": 19,
   "metadata": {},
   "outputs": [],
   "source": [
    "cell = np.array([[-4.0,11.0]])\n",
    "N=1000\n",
    "def do_calcs(m=1.0,L=5):\n",
    "\n",
    "    f = qmp.potential.presets.Box(1,\n",
    "                              position=np.array([L/2.0]), \n",
    "                              width=np.array([L]),\n",
    "                              height=np.array([10.0]))\n",
    "    pot = qmp.potential.Potential(cell, f=f())\n",
    "\n",
    "    system = qmp.systems.Grid(m, cell, N)\n",
    "    \n",
    "    states = 50\n",
    "    wave_model = qmp.Model(\n",
    "               potential=pot,\n",
    "               system=system,\n",
    "               mode='wave',\n",
    "               states=states,\n",
    "            )\n",
    "\n",
    "\n",
    "    wave_model.solve()\n",
    "\n",
    "    psi = wave_model.system.basis\n",
    "    x = wave_model.system.mesh[0]\n",
    "    E = wave_model.system.E\n",
    "    #for i in range(states):\n",
    "    dx = x[1]-x[0]\n",
    "    psi /= np.sqrt(dx)\n",
    "    dens = np.abs(psi*np.conjugate(psi))\n",
    "    \n",
    "    \n",
    "    return x, E, pot, psi, dens\n"
   ]
  },
  {
   "cell_type": "code",
   "execution_count": 34,
   "metadata": {},
   "outputs": [],
   "source": [
    "cell = np.array([[-4.0,11.0]])\n",
    "def do_calcs2(m=1.0,L=5):\n",
    "    \n",
    "    def f(x):\n",
    "        x = np.array([x]).flatten()\n",
    "        for i, xx in enumerate(x):\n",
    "            if xx< 0.0 or xx> L:\n",
    "                x[i] = 1000000.\n",
    "            elif xx>=0.0 and xx<=0.4*L:\n",
    "                x[i] = 0.0\n",
    "            elif xx>=0.6*L and xx<=L:\n",
    "                x[i] = 0.0\n",
    "            else:\n",
    "                x[i] = 1.0\n",
    "        return x\n",
    "        \n",
    "    pot = qmp.potential.Potential(cell, f=f)\n",
    "\n",
    "    system = qmp.systems.Grid(m, cell, N)\n",
    "    \n",
    "    states = 50\n",
    "    wave_model = qmp.Model(\n",
    "               potential=pot,\n",
    "               system=system,\n",
    "               mode='wave',\n",
    "               states=states,\n",
    "            )\n",
    "\n",
    "    wave_model.solve()\n",
    "\n",
    "    psi = wave_model.system.basis\n",
    "    x = wave_model.system.mesh[0]\n",
    "    E = wave_model.system.E\n",
    "    #for i in range(states):\n",
    "    dx = x[1]-x[0]\n",
    "    psi /= np.sqrt(dx)\n",
    "    dens = np.abs(psi*np.conjugate(psi))\n",
    "    \n",
    "    \n",
    "    return x, E, pot, psi, dens\n"
   ]
  },
  {
   "cell_type": "code",
   "execution_count": 35,
   "metadata": {
    "hideCode": false,
    "hidePrompt": false,
    "scrolled": true,
    "slideshow": {
     "slide_type": "skip"
    }
   },
   "outputs": [],
   "source": [
    "L = 5.0\n",
    "x, E, pot, psi, dens = do_calcs1(L=L)\n",
    "\n",
    "source1 = ColumnDataSource(data=dict(E=E, right=np.ones(len(E))*L,color=colors))\n",
    "source2 = ColumnDataSource(data=dict(x=x, y=pot(x)))\n",
    "source3 = ColumnDataSource(data=dict(x=x, y=-psi[:,0]))\n",
    "source4 = ColumnDataSource(data=dict(x=x, y=dens[:,0]))\n",
    "\n",
    "source_vbar = ColumnDataSource(\n",
    "        data=dict(\n",
    "            x=[0,L],\n",
    "        )\n",
    "    )\n",
    "\n",
    "callback = CustomJS(code=\"\"\"\"\"\")\n",
    "tap = TapTool(callback=callback)\n",
    "#hover = HoverTool(callback=callback)\n",
    "\n",
    "TOOLS=\"pan,wheel_zoom,box_zoom,reset\"\n",
    "\n",
    "p1 = figure(x_axis_label='x (atomic units)',y_axis_label='Energy (atomic units)',\n",
    "            plot_width=800, plot_height=350, tools=[tap,'pan','box_zoom','wheel_zoom','reset'])\n",
    "p1.xaxis.axis_label_text_font_size = \"16pt\"\n",
    "p1.yaxis.axis_label_text_font_size = \"16pt\"\n",
    "p1.xaxis.major_label_text_font_size= \"12pt\"\n",
    "p1.yaxis.major_label_text_font_size= \"12pt\"\n",
    "\n",
    "line_pot = p1.line('x', 'y', source=source2, line_width=lw+1, line_color='grey' )\n",
    "\n",
    "p1.x_range=Range1d(-3,10)\n",
    "p1.y_range=Range1d(-0.3,10)\n",
    "\n",
    "label1 = Label(x=-1, y=E[0], text='n={0:2d}'.format(1),text_color=colors[0],\n",
    "              text_font_size='14pt')\n",
    "p1.add_layout(label1)\n",
    "\n",
    "energies = p1.hbar(right='right',y='E',height=0.05, left=0, source=source1, color='color')\n",
    "\n",
    "\n",
    "p2  = figure(x_axis_label='x (atomic units)',y_axis_label='Wave function', plot_width=400, plot_height=200, \n",
    "             tools=TOOLS)\n",
    "p2.xaxis.axis_label_text_font_size = \"16pt\"\n",
    "p2.yaxis.axis_label_text_font_size = \"16pt\"\n",
    "p2.xaxis.major_label_text_font_size= \"12pt\"\n",
    "p2.yaxis.major_label_text_font_size= \"12pt\"\n",
    "\n",
    "line_psi = p2.line('x','y', source=source3, line_width=lw, line_color='blue')\n",
    "\n",
    "vbars1 = p2.vbar('x',top=100, source=source_vbar, width=0.05, bottom=-100, color='grey')\n",
    "\n",
    "p2.x_range=Range1d(-3,10)\n",
    "p2.y_range=Range1d(-0.7,0.7)\n",
    "\n",
    "p3  = figure(x_axis_label='x (atomic units)',y_axis_label='Probability', plot_width=400, plot_height=200, \n",
    "             tools=TOOLS)\n",
    "p3.xaxis.axis_label_text_font_size = \"16pt\"\n",
    "p3.yaxis.axis_label_text_font_size = \"16pt\"\n",
    "p3.xaxis.major_label_text_font_size= \"12pt\"\n",
    "p3.yaxis.major_label_text_font_size= \"12pt\"\n",
    "\n",
    "line_dens = p3.line('x','y', source=source4, line_width=lw, line_color='blue')\n",
    "vbars2 = p3.vbar('x',top=100, source=source_vbar, width=0.05, bottom=-100, color='grey')\n",
    "p3.x_range=Range1d(-3,10)\n",
    "p3.y_range=Range1d(-0.1,0.5)\n",
    "p_box1 = gridplot([[p1],[p2,p3]])\n",
    "\n",
    "def update(n,m,L):\n",
    "    x, E, pot, psi, dens = do_calcs1(m=m,L=L)\n",
    "    line_pot.data_source.data['y'] = pot(x)\n",
    "    energies.data_source.data['E'] = E\n",
    "    energies.data_source.data['right'] = np.ones(len(E))*L\n",
    "    #arrow1.line_color=colors[n-1]\n",
    "    #arrow1.end.line_color=colors[n-1]\n",
    "    label1.y=E[n-1]\n",
    "    label1.text='n={0:2d}'.format(n)\n",
    "    label1.text_color=colors[n-1]\n",
    "    line_psi.data_source.data['y'] = psi[:,n-1]\n",
    "    line_psi.glyph.line_color = colors[n-1]\n",
    "    line_dens.data_source.data['y'] = dens[:,n-1]\n",
    "    line_dens.glyph.line_color = colors[n-1]\n",
    "    vbars1.data_source.data['x'] = [0,L]\n",
    "    vbars2.data_source.data['x'] = [0,L]\n",
    "    push_notebook(handle=h1)\n",
    "    \n",
    "    \n",
    "state_dict = {}\n",
    "for i in range(1,50):\n",
    "    state_dict[str(i)] = i"
   ]
  },
  {
   "cell_type": "markdown",
   "metadata": {
    "slideshow": {
     "slide_type": "slide"
    }
   },
   "source": [
    "**Particle in a box**"
   ]
  },
  {
   "cell_type": "code",
   "execution_count": 36,
   "metadata": {
    "hideCode": false,
    "hidePrompt": false,
    "scrolled": false,
    "slideshow": {
     "slide_type": "-"
    }
   },
   "outputs": [
    {
     "data": {
      "text/plain": [
       "<function __main__.update(n, m, L)>"
      ]
     },
     "execution_count": 36,
     "metadata": {},
     "output_type": "execute_result"
    }
   ],
   "source": [
    "h1=show(p_box1, notebook_handle=True)\n",
    "interact(update, n=state_dict, m=(0.1,1.9), L=(0.1,10.0))"
   ]
  },
  {
   "cell_type": "markdown",
   "metadata": {
    "hideCode": false,
    "hidePrompt": false,
    "slideshow": {
     "slide_type": "slide"
    }
   },
   "source": [
    "**Particle in a box with finite walls**"
   ]
  },
  {
   "cell_type": "code",
   "execution_count": 37,
   "metadata": {
    "hideCode": false,
    "hidePrompt": false,
    "slideshow": {
     "slide_type": "skip"
    }
   },
   "outputs": [
    {
     "name": "stdout",
     "output_type": "stream",
     "text": [
      "Solving...\n",
      "SOLVED\n",
      "\n"
     ]
    },
    {
     "name": "stderr",
     "output_type": "stream",
     "text": [
      "BokehUserWarning: ColumnDataSource's columns must be of the same length. Current lengths: ('E', 50), ('color', 50), ('right', 50), ('x', 1000)\n"
     ]
    }
   ],
   "source": [
    "L = 5.0\n",
    "x, E, pot, psi, dens = do_calcs(L=L)\n",
    "\n",
    "source1 = ColumnDataSource(data=dict(x=x, E=E, right=np.ones(len(E))*L, color=colors))\n",
    "source2 = ColumnDataSource(data=dict(x=x, y=pot(x)))\n",
    "source3 = ColumnDataSource(data=dict(x=x, y=-psi[:,0]))\n",
    "source4 = ColumnDataSource(data=dict(x=x, y=dens[:,0]))\n",
    "\n",
    "#source1 = ColumnDataSource(\n",
    "#        data=dict(\n",
    "#            x=x,\n",
    "#            y=pot,\n",
    "#       #     desc=,\n",
    "#        )\n",
    "#    )\n",
    "#source2 = ColumnDataSource(\n",
    "##        data=dict(\n",
    "#            x=x,\n",
    "#            y=E,\n",
    "#       #     desc=,\n",
    "#        )\n",
    "#    )\n",
    "#hover = HoverTool(\n",
    "#        tooltips=[\n",
    "#            (\"index\", \"$index\"),\n",
    "#            (\"(x,y)\", \"($x, $y)\"),\n",
    "#           #(\"desc\", \"@desc\"),\n",
    "#        ]\n",
    "#    )\n",
    "\n",
    "callback = CustomJS(code=\"\")\n",
    "tap = TapTool(callback=callback)\n",
    "#hover = HoverTool(callback=callback)\n",
    "\n",
    "TOOLS=\"pan,wheel_zoom,box_zoom,reset\"\n",
    "\n",
    "p11 = figure(x_axis_label='x (atomic units)',y_axis_label='Energy (atomic units)',\n",
    "            plot_width=800, plot_height=350, tools=[tap,'pan','box_zoom','wheel_zoom','reset'])\n",
    "p11.xaxis.axis_label_text_font_size = \"16pt\"\n",
    "p11.yaxis.axis_label_text_font_size = \"16pt\"\n",
    "p11.xaxis.major_label_text_font_size= \"12pt\"\n",
    "p11.yaxis.major_label_text_font_size= \"12pt\"\n",
    "#p.extra_y_ranges = {'pot': Range1d(start=-10, end=10000)}\n",
    "#p.add_layout(LinearAxis(y_range_name='pot'), 'right')\n",
    "#p.line(x, pib.pot(x), line_width=lw, line_color='grey', y_range_name='pot' )\n",
    "\n",
    "line_pot1 = p11.line('x', 'y', source=source2, line_width=lw+1, line_color='grey' )\n",
    "\n",
    "p11.x_range=Range1d(-3,10)\n",
    "p11.y_range=Range1d(-0.3,12)\n",
    "#p1.xaxis.axis_label = ''\n",
    "#p1.yaxis.axis_label = ''\n",
    "\n",
    "label11 = Label(x=-1, y=E[0], text='n={0:2d}'.format(1),text_color=colors[0],\n",
    "              text_font_size='14pt')\n",
    "p11.add_layout(label11)\n",
    "\n",
    "energies1 = p11.hbar('E', right='right', source=source1, height=0.05, left=0, color='color')\n",
    "\n",
    "p22  = figure(x_axis_label='x (atomic units)',y_axis_label='Wave function', plot_width=400, plot_height=200, \n",
    "              tools=TOOLS)\n",
    "p22.xaxis.axis_label_text_font_size = \"16pt\"\n",
    "p22.yaxis.axis_label_text_font_size = \"16pt\"\n",
    "p22.xaxis.major_label_text_font_size= \"12pt\"\n",
    "p22.yaxis.major_label_text_font_size= \"12pt\"\n",
    "line_psi1 = p22.line('x','y', source=source3, line_width=lw, line_color='blue')\n",
    "vbars11 = p22.vbar('x',top=100, source=source_vbar, width=0.05, bottom=-100, color='grey')\n",
    "\n",
    "p22.x_range=Range1d(-3,10)\n",
    "p22.y_range=Range1d(-0.7,0.7)\n",
    "\n",
    "p33  = figure(x_axis_label='x (atomic units)',y_axis_label='Density', plot_width=400, plot_height=200, tools=TOOLS)\n",
    "p33.xaxis.axis_label_text_font_size = \"16pt\"\n",
    "p33.yaxis.axis_label_text_font_size = \"16pt\"\n",
    "p33.xaxis.major_label_text_font_size= \"12pt\"\n",
    "p33.yaxis.major_label_text_font_size= \"12pt\"\n",
    "line_dens1 = p33.line('x','y', source=source4, line_width=lw, line_color='blue')\n",
    "vbars22 = p33.vbar('x',top=100, source=source_vbar, width=0.05, bottom=-100, color='grey')\n",
    "\n",
    "p_box2 = gridplot([[p11],[p22,p33]])\n",
    "\n",
    "p33.x_range=Range1d(-3,10)\n",
    "p33.y_range=Range1d(-0.1,0.5)\n",
    "\n",
    "def update1(n,m,L):\n",
    "    x, E, pot, psi, dens = do_calcs(m=m,L=L)\n",
    "    line_pot1.data_source.data['y'] = pot(x)\n",
    "    energies1.data_source.data['E'] = E\n",
    "    energies1.data_source.data['right'] = np.ones(len(E))*L\n",
    "    label11.y=E[n-1]\n",
    "    label11.text='n={0:2d}'.format(n)\n",
    "    label11.text_color=colors[n-1]\n",
    "    line_psi1.data_source.data['y'] = psi[:,n-1]\n",
    "    line_psi1.glyph.line_color = colors[n-1]\n",
    "    line_dens1.data_source.data['y'] = dens[:,n-1]\n",
    "    line_dens1.glyph.line_color = colors[n-1]\n",
    "    vbars11.data_source.data['x'] = [0,L]\n",
    "    vbars22.data_source.data['x'] = [0,L]\n",
    "    push_notebook(handle=h2)"
   ]
  },
  {
   "cell_type": "code",
   "execution_count": 38,
   "metadata": {
    "hideCode": false,
    "hidePrompt": false,
    "scrolled": false,
    "slideshow": {
     "slide_type": "-"
    }
   },
   "outputs": [
    {
     "name": "stdout",
     "output_type": "stream",
     "text": [
      "Solving...\n",
      "SOLVED\n",
      "\n"
     ]
    },
    {
     "name": "stderr",
     "output_type": "stream",
     "text": [
      "BokehUserWarning: ColumnDataSource's columns must be of the same length. Current lengths: ('E', 50), ('color', 50), ('right', 50), ('x', 1000)\n",
      "BokehUserWarning: ColumnDataSource's columns must be of the same length. Current lengths: ('E', 50), ('color', 50), ('right', 50), ('x', 1000)\n"
     ]
    },
    {
     "data": {
      "text/plain": [
       "<function __main__.update1(n, m, L)>"
      ]
     },
     "execution_count": 38,
     "metadata": {},
     "output_type": "execute_result"
    }
   ],
   "source": [
    "h2=show(p_box2, notebook_handle=True)\n",
    "interact(update1, n=state_dict, m=(0.1,1.9), L=(1.,9.))"
   ]
  },
  {
   "cell_type": "markdown",
   "metadata": {
    "hideCode": false,
    "hidePrompt": false,
    "slideshow": {
     "slide_type": "slide"
    }
   },
   "source": [
    "**Particle in a box with bump in the middle**"
   ]
  },
  {
   "cell_type": "code",
   "execution_count": 39,
   "metadata": {
    "hideCode": false,
    "hidePrompt": false,
    "slideshow": {
     "slide_type": "skip"
    }
   },
   "outputs": [
    {
     "name": "stdout",
     "output_type": "stream",
     "text": [
      "Solving...\n",
      "SOLVED\n",
      "\n"
     ]
    },
    {
     "name": "stderr",
     "output_type": "stream",
     "text": [
      "BokehUserWarning: ColumnDataSource's columns must be of the same length. Current lengths: ('E', 50), ('color', 50), ('right', 50), ('x', 1000)\n"
     ]
    }
   ],
   "source": [
    "L = 5.0\n",
    "x, E, pot, psi, dens = do_calcs2(m=1, L=L)\n",
    "\n",
    "source1 = ColumnDataSource(data=dict(x=x, E=E, right=np.ones(len(E))*L, color=colors))\n",
    "source2 = ColumnDataSource(data=dict(x=x, y=pot(x)))\n",
    "source3 = ColumnDataSource(data=dict(x=x, y=-psi[:,0]))\n",
    "source4 = ColumnDataSource(data=dict(x=x, y=dens[:,0]))\n",
    "\n",
    "callback = CustomJS(code=\"\")\n",
    "tap = TapTool(callback=callback)\n",
    "#hover = HoverTool(callback=callback)\n",
    "\n",
    "TOOLS=\"pan,wheel_zoom,box_zoom,reset\"\n",
    "\n",
    "p11 = figure(x_axis_label='x (atomic units)',y_axis_label='Energy (atomic units)',\n",
    "            plot_width=800, plot_height=350, tools=[tap,'pan','box_zoom','wheel_zoom','reset'])\n",
    "p11.xaxis.axis_label_text_font_size = \"16pt\"\n",
    "p11.yaxis.axis_label_text_font_size = \"16pt\"\n",
    "p11.xaxis.major_label_text_font_size= \"12pt\"\n",
    "p11.yaxis.major_label_text_font_size= \"12pt\"\n",
    "#p.extra_y_ranges = {'pot': Range1d(start=-10, end=10000)}\n",
    "#p.add_layout(LinearAxis(y_range_name='pot'), 'right')\n",
    "#p.line(x, pib.pot(x), line_width=lw, line_color='grey', y_range_name='pot' )\n",
    "\n",
    "line_pot1 = p11.line('x', 'y', source=source2, line_width=lw+1, line_color='grey' )\n",
    "\n",
    "p11.x_range=Range1d(-3,10)\n",
    "p11.y_range=Range1d(-0.3,12)\n",
    "#p1.xaxis.axis_label = ''\n",
    "#p1.yaxis.axis_label = ''\n",
    "\n",
    "label11 = Label(x=-1, y=E[0], text='n={0:2d}'.format(1),text_color=colors[0],\n",
    "              text_font_size='14pt')\n",
    "p11.add_layout(label11)\n",
    "\n",
    "energies1 = p11.hbar('E', right='right', source=source1, height=0.05, left=0, color='color')\n",
    "\n",
    "p22  = figure(x_axis_label='x (atomic units)',y_axis_label='Wave function', plot_width=400, plot_height=200, \n",
    "              tools=TOOLS)\n",
    "p22.xaxis.axis_label_text_font_size = \"16pt\"\n",
    "p22.yaxis.axis_label_text_font_size = \"16pt\"\n",
    "p22.xaxis.major_label_text_font_size= \"12pt\"\n",
    "p22.yaxis.major_label_text_font_size= \"12pt\"\n",
    "line_psi1 = p22.line('x','y', source=source3, line_width=lw, line_color='blue')\n",
    "vbars11 = p22.vbar('x',top=100, source=source_vbar, width=0.05, bottom=-100, color='grey')\n",
    "\n",
    "p22.x_range=Range1d(-3,10)\n",
    "p22.y_range=Range1d(-0.7,0.7)\n",
    "\n",
    "p33  = figure(x_axis_label='x (atomic units)',y_axis_label='Density', plot_width=400, plot_height=200, tools=TOOLS)\n",
    "p33.xaxis.axis_label_text_font_size = \"16pt\"\n",
    "p33.yaxis.axis_label_text_font_size = \"16pt\"\n",
    "p33.xaxis.major_label_text_font_size= \"12pt\"\n",
    "p33.yaxis.major_label_text_font_size= \"12pt\"\n",
    "line_dens1 = p33.line('x','y', source=source4, line_width=lw, line_color='blue')\n",
    "vbars22 = p33.vbar('x',top=100, source=source_vbar, width=0.05, bottom=-100, color='grey')\n",
    "\n",
    "p_box3 = gridplot([[p11],[p22,p33]])\n",
    "\n",
    "p33.x_range=Range1d(-3,10)\n",
    "p33.y_range=Range1d(-0.1,0.5)\n",
    "\n",
    "def update2(n,m,L):\n",
    "    x, E, pot, psi, dens = do_calcs2(m=m,L=L)\n",
    "    line_pot1.data_source.data['y'] = pot(x)\n",
    "    energies1.data_source.data['E'] = E\n",
    "    energies1.data_source.data['right'] = np.ones(len(E))*L\n",
    "    label11.y=E[n-1]\n",
    "    label11.text='n={0:2d}'.format(n)\n",
    "    label11.text_color=colors[n-1]\n",
    "    line_psi1.data_source.data['y'] = psi[:,n-1]\n",
    "    line_psi1.glyph.line_color = colors[n-1]\n",
    "    line_dens1.data_source.data['y'] = dens[:,n-1]\n",
    "    line_dens1.glyph.line_color = colors[n-1]\n",
    "    vbars11.data_source.data['x'] = [0,L]\n",
    "    vbars22.data_source.data['x'] = [0,L]\n",
    "    push_notebook(handle=h3)"
   ]
  },
  {
   "cell_type": "code",
   "execution_count": 41,
   "metadata": {
    "hideCode": false,
    "hidePrompt": false,
    "scrolled": false,
    "slideshow": {
     "slide_type": "-"
    }
   },
   "outputs": [
    {
     "name": "stdout",
     "output_type": "stream",
     "text": [
      "Solving...\n",
      "SOLVED\n",
      "\n"
     ]
    },
    {
     "name": "stderr",
     "output_type": "stream",
     "text": [
      "BokehUserWarning: ColumnDataSource's columns must be of the same length. Current lengths: ('E', 50), ('color', 50), ('right', 50), ('x', 1000)\n",
      "BokehUserWarning: ColumnDataSource's columns must be of the same length. Current lengths: ('E', 50), ('color', 50), ('right', 50), ('x', 1000)\n"
     ]
    },
    {
     "data": {
      "text/plain": [
       "<function __main__.update2(n, m, L)>"
      ]
     },
     "execution_count": 41,
     "metadata": {},
     "output_type": "execute_result"
    }
   ],
   "source": [
    "h3=show(p_box3, notebook_handle=True)\n",
    "interact(update2, n=state_dict, m=(0.1,1.9), L=(1.,9.))"
   ]
  },
  {
   "cell_type": "markdown",
   "metadata": {
    "hideCode": false,
    "hidePrompt": false,
    "slideshow": {
     "slide_type": "skip"
    }
   },
   "source": [
    "<div class=\"col-md-12\">\n",
    "     <h3> Problem 1 </h3>  \n",
    "    <p  style=\"color:blue;\"> <u>a</u>: Let's assume that the electron is in state n=2. What is the required energy to bring it into state n=3? </p>\n",
    "    <div class=\"fragment\"> \n",
    "    <p> $\\Delta E=E(n=3)-E(n=2)= \\frac{\\hbar^2\\pi^2}{2mL^2}(9-4)=5\\cdot E_1 $\n",
    "    </p>\n",
    "    </div>\n",
    "    <p  style=\"color:blue;\"> <u>b</u>: Calculate the energy difference E(n=3)-E(n=2) for a box (molecule) of size L/2?</p>\n",
    "     <div class=\"fragment\">\n",
    "    <p> $$ \\Delta E=5\\cdot \\frac{\\hbar^2\\pi^2}{2m(L/2)^2}=5\\cdot4\\cdot \\frac{\\hbar^2\\pi^2}{2mL^2} = 20\\cdot E_1 $$ </p>\n",
    "    <p> Smaller CdSe nanoparticles emit light with higher energy (blue) </p>\n",
    "    </div>\n",
    "</div>"
   ]
  },
  {
   "cell_type": "markdown",
   "metadata": {
    "hideCode": false,
    "hidePrompt": false,
    "slideshow": {
     "slide_type": "skip"
    }
   },
   "source": [
    "<div class=\"col-md-12\">\n",
    "     <h3> Problem 2 </h3>\n",
    "    <p  style=\"color:blue;\"> <u>a</u>: What happens to the energy spectrum and the wave functions when the box width L becomes very large? What happens to the energy of the n=1 state? </p>\n",
    "    <div class=\"fragment\"> \n",
    "    <p> All energy spacings become very close to zero. The $E_1$ energy also approaches zero. \n",
    "    $L\\rightarrow\\infty$  approaches the limit of a free particle, where states are not quantized and there is no zero-point energy. </p> <br>\n",
    "    <b> !Quantized energy levels with spacings are a consequence of confinement!\n",
    "    </b>     \n",
    "</div>\n"
   ]
  },
  {
   "cell_type": "markdown",
   "metadata": {
    "hideCode": false,
    "hidePrompt": false,
    "slideshow": {
     "slide_type": "slide"
    }
   },
   "source": [
    "\n",
    "\n",
    "<h3> Problem 3 </h3>\n",
    "  \n",
    "<p   style=\"color:blue;\"> <u>a</u>: In a realistic system, the potential wall will not be infinitely high and electrons will be able to escape eventually. What will be the consequence for the wave functions inside the well?  </p>\n",
    "<div class=\"fragment\"> \n",
    "<p> The wave functions do not strictly have to be 0 at the boundaries any more, but rather exponentially decay to zero. This means that the electrons can 'tunnel' into the barrier region.\n",
    "</p>\n",
    "</div>    \n",
    "<p   style=\"color:blue;\"> <u>b</u>:In a finite well, only a finite number of states has energies that lie below the well edge. What do wave functions describe that lie above this well edge? </p>\n",
    "<div class=\"fragment\"> \n",
    "<p> These wave functions will describe electrons with higher probability to be found outside the well, so-called 'unbound states' with properties similar to free electrons.\n",
    "</p>\n",
    "</div>       "
   ]
  },
  {
   "cell_type": "code",
   "execution_count": null,
   "metadata": {},
   "outputs": [],
   "source": []
  }
 ],
 "metadata": {
  "hide_code_all_hidden": false,
  "kernelspec": {
   "display_name": "Python 3",
   "language": "python",
   "name": "python3"
  },
  "language_info": {
   "codemirror_mode": {
    "name": "ipython",
    "version": 3
   },
   "file_extension": ".py",
   "mimetype": "text/x-python",
   "name": "python",
   "nbconvert_exporter": "python",
   "pygments_lexer": "ipython3",
   "version": "3.8.5"
  }
 },
 "nbformat": 4,
 "nbformat_minor": 2
}
