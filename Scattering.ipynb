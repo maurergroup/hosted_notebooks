{
 "cells": [
  {
   "cell_type": "markdown",
   "metadata": {},
   "source": [
    "<div class=\"alert alert-block alert-info\">\n",
    "<h1>The Scattering Problem</h1>"
   ]
  },
  {
   "cell_type": "code",
   "execution_count": 28,
   "metadata": {},
   "outputs": [],
   "source": [
    "# nbi:hide_in\n",
    "import nbinteract as nbi\n",
    "import numpy as np\n",
    "import scipy as sp \n",
    "import matplotlib.pyplot as plt\n",
    "%matplotlib inline \n",
    "from ipywidgets import interact, interactive, fixed, interact_manual"
   ]
  },
  {
   "cell_type": "markdown",
   "metadata": {},
   "source": [
    "\n",
    "## Scattering on hard sphere"
   ]
  },
  {
   "cell_type": "markdown",
   "metadata": {},
   "source": [
    "\n",
    "Scattering angle:\n",
    "$$ \\theta(b) = 2\\arccos{\\left(\\frac{b}{R}\\right)} $$\n",
    "\n",
    "Turning point:\n",
    "$$r_{tp}=\\sqrt{R^2-b^2} $$\n",
    "\n"
   ]
  },
  {
   "cell_type": "code",
   "execution_count": 89,
   "metadata": {},
   "outputs": [
    {
     "data": {
      "application/vnd.jupyter.widget-view+json": {
       "model_id": "2f656eb67eb7434fb342430e3d5862f5",
       "version_major": 2,
       "version_minor": 0
      },
      "text/plain": [
       "interactive(children=(FloatSlider(value=1.5, description='b', max=3.0), FloatSlider(value=1.75, description='R…"
      ]
     },
     "metadata": {},
     "output_type": "display_data"
    },
    {
     "data": {
      "text/plain": [
       "<function __main__.scattering_on_hard_sphere(b, R)>"
      ]
     },
     "execution_count": 89,
     "metadata": {},
     "output_type": "execute_result"
    }
   ],
   "source": [
    "# nbi:hide_in\n",
    "\n",
    "def scattering_on_hard_sphere(b, R):\n",
    "    \n",
    "    x_min = -5\n",
    "    x_max = 3\n",
    "    y_min = -3\n",
    "    y_max = 5\n",
    "    points = 2\n",
    "    \n",
    "    if b<R:\n",
    "        theta = np.pi-2.*np.arcsin(b/R)\n",
    "        r_tp = np.sqrt(R**2 - b**2)\n",
    "        #line1:\n",
    "        x = np.linspace(x_min,-r_tp)\n",
    "        \n",
    "        #line2:\n",
    "        r = np.linspace(0.1,10.,points)\n",
    "        k = np.tan(theta)\n",
    "        if k<0:\n",
    "            x2 = np.linspace(-r_tp,x_min,points)\n",
    "        else:\n",
    "            x2 = np.linspace(-r_tp,x_max,points)\n",
    "        y2 = [k*i+b for i in  x2+r_tp]\n",
    "    else:\n",
    "        theta = np.pi\n",
    "        x = np.linspace(x_min,x_max, points)\n",
    "        x2 = y2 = np.zeros_like(x)\n",
    "    \n",
    "\n",
    "    y = np.zeros_like(x)\n",
    "    y[:] = b    \n",
    "        \n",
    "    #####PLOT\n",
    "    fig = plt.figure(figsize=(8, 8), dpi= 80, facecolor='w', edgecolor='k')\n",
    "    ax1 = fig.add_subplot()\n",
    "    ax1.axvline(0, color='gray')\n",
    "    ax1.axhline(0, color='gray')\n",
    "    \n",
    "    circle1 = plt.Circle((0, 0), R, color='#5c95e0')\n",
    "    ax1.add_artist(circle1)\n",
    "    circle2 = plt.Circle((x_min+0.1, b), 0.1, color='#c83438')\n",
    "    ax1.add_artist(circle2)\n",
    "\n",
    "    ax1.plot(x,y,color='#c83438')\n",
    "    if b<=R:\n",
    "        ax1.plot(x2,y2,color='#c83438')\n",
    "    ax1.set_xlim(x_min,x_max)\n",
    "    ax1.set_ylim(y_min,y_max)\n",
    " \n",
    "    ax1.set_xlabel('y',fontsize=14)\n",
    "    ax1.set_ylabel('z',fontsize=14)    \n",
    "    plt.plot()\n",
    "    \n",
    "    \n",
    "interact(scattering_on_hard_sphere, b=(0.,3.), R=(0.,3.5))\n",
    "\n",
    "\n"
   ]
  },
  {
   "cell_type": "markdown",
   "metadata": {},
   "source": [
    "# Scattering of particles with Coulomb interaction\n",
    "\n",
    "Scattering angle:\n",
    "$$ \\theta(b) = \\pm2\\arccos{\\frac{1}{\\sqrt{\\gamma^2 + 1}}}   $$\n"
   ]
  },
  {
   "cell_type": "code",
   "execution_count": null,
   "metadata": {},
   "outputs": [],
   "source": []
  },
  {
   "cell_type": "code",
   "execution_count": null,
   "metadata": {},
   "outputs": [],
   "source": []
  }
 ],
 "metadata": {
  "kernelspec": {
   "display_name": "Python 3",
   "language": "python",
   "name": "python3"
  },
  "language_info": {
   "codemirror_mode": {
    "name": "ipython",
    "version": 3
   },
   "file_extension": ".py",
   "mimetype": "text/x-python",
   "name": "python",
   "nbconvert_exporter": "python",
   "pygments_lexer": "ipython3",
   "version": "3.7.8"
  }
 },
 "nbformat": 4,
 "nbformat_minor": 4
}
